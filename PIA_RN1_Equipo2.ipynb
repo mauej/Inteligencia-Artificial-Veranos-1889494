{
  "nbformat": 4,
  "nbformat_minor": 0,
  "metadata": {
    "colab": {
      "name": "PIA_RN1_Equipo2.ipynb",
      "provenance": [],
      "mount_file_id": "1WBOi9kiP-Wg8ot6j_qGXMmycmdikfH7e",
      "authorship_tag": "ABX9TyPDcWEIvUuJeZ9EqNuJrkeR",
      "include_colab_link": true
    },
    "kernelspec": {
      "name": "python3",
      "display_name": "Python 3"
    },
    "language_info": {
      "name": "python"
    }
  },
  "cells": [
    {
      "cell_type": "markdown",
      "metadata": {
        "id": "view-in-github",
        "colab_type": "text"
      },
      "source": [
        "<a href=\"https://colab.research.google.com/github/mauej/Inteligencia-Artificial-Veranos-1889494/blob/main/PIA_RN1_Equipo2.ipynb\" target=\"_parent\"><img src=\"https://colab.research.google.com/assets/colab-badge.svg\" alt=\"Open In Colab\"/></a>"
      ]
    },
    {
      "cell_type": "markdown",
      "source": [
        "Equipo #2\n",
        "\n",
        "Mauricio Esquivel Jimenez 1889494\n",
        "\n",
        "Santiago Alexis Cuéllar Cepeda 1957555\n"
      ],
      "metadata": {
        "id": "agTMseNFZou2"
      }
    },
    {
      "cell_type": "code",
      "execution_count": null,
      "metadata": {
        "id": "ibVUupWGT8Vg"
      },
      "outputs": [],
      "source": [
        "import cv2\n",
        "import matplotlib.pyplot as plt\n",
        "import glob \n",
        "import tensorflow as tf\n",
        "from tensorflow.keras import datasets, layers, models\n",
        "import matplotlib.pyplot as plt\n",
        "from sklearn.model_selection import train_test_split\n",
        "import numpy as np\n",
        "from tensorflow import keras\n",
        "\n"
      ]
    },
    {
      "cell_type": "code",
      "source": [
        "image_array=[]\n",
        "image_labels=[]"
      ],
      "metadata": {
        "id": "4RrRqDINpP_y"
      },
      "execution_count": null,
      "outputs": []
    },
    {
      "cell_type": "code",
      "source": [
        "file = '/content/drive/MyDrive/numeros/0'\n",
        "\n",
        "for images in glob.iglob(f'{file}/*'):\n",
        "  test_image = cv2.imread(images, cv2.IMREAD_GRAYSCALE )\n",
        "  img_resized = cv2.resize(test_image, (28,28), interpolation=cv2.INTER_LINEAR)\n",
        "  img_resized = cv2.bitwise_not(img_resized)\n",
        "  image_array.append(img_resized)\n",
        "  image_labels.append(0)\n",
        "#plt.imshow(image_array[39], cmap='gray')"
      ],
      "metadata": {
        "id": "cdhNM9iQucZJ"
      },
      "execution_count": null,
      "outputs": []
    },
    {
      "cell_type": "code",
      "source": [
        "file = '/content/drive/MyDrive/numeros/1'\n",
        "\n",
        "for images in glob.iglob(f'{file}/*'):\n",
        "  test_image = cv2.imread(images, cv2.IMREAD_GRAYSCALE )\n",
        "  img_resized = cv2.resize(test_image, (28,28), interpolation=cv2.INTER_LINEAR)\n",
        "  img_resized = cv2.bitwise_not(img_resized)\n",
        "  image_array.append(img_resized)\n",
        "  image_labels.append(1)"
      ],
      "metadata": {
        "id": "-x3CoUNPv-Ne"
      },
      "execution_count": null,
      "outputs": []
    },
    {
      "cell_type": "code",
      "source": [
        "file = '/content/drive/MyDrive/numeros/2'\n",
        "\n",
        "for images in glob.iglob(f'{file}/*'):\n",
        "  test_image = cv2.imread(images, cv2.IMREAD_GRAYSCALE )\n",
        "  img_resized = cv2.resize(test_image, (28,28), interpolation=cv2.INTER_LINEAR)\n",
        "  img_resized = cv2.bitwise_not(img_resized)\n",
        "  image_array.append(img_resized)\n",
        "  image_labels.append(2)"
      ],
      "metadata": {
        "id": "a25nQNGhv-tP"
      },
      "execution_count": null,
      "outputs": []
    },
    {
      "cell_type": "code",
      "source": [
        "file = '/content/drive/MyDrive/numeros/3'\n",
        "\n",
        "for images in glob.iglob(f'{file}/*'):\n",
        "  test_image = cv2.imread(images, cv2.IMREAD_GRAYSCALE )\n",
        "  img_resized = cv2.resize(test_image, (28,28), interpolation=cv2.INTER_LINEAR)\n",
        "  img_resized = cv2.bitwise_not(img_resized)\n",
        "  image_array.append(img_resized)\n",
        "  image_labels.append(3)"
      ],
      "metadata": {
        "id": "NJ-aOmtSv_He"
      },
      "execution_count": null,
      "outputs": []
    },
    {
      "cell_type": "code",
      "source": [
        "file = '/content/drive/MyDrive/numeros/4'\n",
        "\n",
        "for images in glob.iglob(f'{file}/*'):\n",
        "  test_image = cv2.imread(images, cv2.IMREAD_GRAYSCALE )\n",
        "  img_resized = cv2.resize(test_image, (28,28), interpolation=cv2.INTER_LINEAR)\n",
        "  img_resized = cv2.bitwise_not(img_resized)\n",
        "  image_array.append(img_resized)\n",
        "  image_labels.append(4)"
      ],
      "metadata": {
        "id": "_64oPxGhv_Sb"
      },
      "execution_count": null,
      "outputs": []
    },
    {
      "cell_type": "code",
      "source": [
        "file = '/content/drive/MyDrive/numeros/5'\n",
        "\n",
        "for images in glob.iglob(f'{file}/*'):\n",
        "  test_image = cv2.imread(images, cv2.IMREAD_GRAYSCALE )\n",
        "  img_resized = cv2.resize(test_image, (28,28), interpolation=cv2.INTER_LINEAR)\n",
        "  img_resized = cv2.bitwise_not(img_resized)\n",
        "  image_array.append(img_resized)\n",
        "  image_labels.append(5)"
      ],
      "metadata": {
        "id": "2H6AgIzKv_bn"
      },
      "execution_count": null,
      "outputs": []
    },
    {
      "cell_type": "code",
      "source": [
        "file = '/content/drive/MyDrive/numeros/6'\n",
        "\n",
        "for images in glob.iglob(f'{file}/*'):\n",
        "  test_image = cv2.imread(images, cv2.IMREAD_GRAYSCALE )\n",
        "  img_resized = cv2.resize(test_image, (28,28), interpolation=cv2.INTER_LINEAR)\n",
        "  img_resized = cv2.bitwise_not(img_resized)\n",
        "  image_array.append(img_resized)\n",
        "  image_labels.append(6)"
      ],
      "metadata": {
        "id": "j0UWtHo1v_lH"
      },
      "execution_count": null,
      "outputs": []
    },
    {
      "cell_type": "code",
      "source": [
        "file = '/content/drive/MyDrive/numeros/7'\n",
        "\n",
        "for images in glob.iglob(f'{file}/*'):\n",
        "  test_image = cv2.imread(images, cv2.IMREAD_GRAYSCALE )\n",
        "  img_resized = cv2.resize(test_image, (28,28), interpolation=cv2.INTER_LINEAR)\n",
        "  img_resized = cv2.bitwise_not(img_resized)\n",
        "  image_array.append(img_resized)\n",
        "  image_labels.append(7)"
      ],
      "metadata": {
        "id": "5i9A_S8Xv_vs"
      },
      "execution_count": null,
      "outputs": []
    },
    {
      "cell_type": "code",
      "source": [
        "file = '/content/drive/MyDrive/numeros/8'\n",
        "\n",
        "for images in glob.iglob(f'{file}/*'):\n",
        "  test_image = cv2.imread(images, cv2.IMREAD_GRAYSCALE )\n",
        "  img_resized = cv2.resize(test_image, (28,28), interpolation=cv2.INTER_LINEAR)\n",
        "  img_resized = cv2.bitwise_not(img_resized)\n",
        "  image_array.append(img_resized)\n",
        "  image_labels.append(8)"
      ],
      "metadata": {
        "id": "K3qF-LVnv_4h"
      },
      "execution_count": null,
      "outputs": []
    },
    {
      "cell_type": "code",
      "source": [
        "file = '/content/drive/MyDrive/numeros/9'\n",
        "\n",
        "for images in glob.iglob(f'{file}/*'):\n",
        "  test_image = cv2.imread(images, cv2.IMREAD_GRAYSCALE )\n",
        "  img_resized = cv2.resize(test_image, (28,28), interpolation=cv2.INTER_LINEAR)\n",
        "  img_resized = cv2.bitwise_not(img_resized)\n",
        "  image_array.append(img_resized)\n",
        "  image_labels.append(9)"
      ],
      "metadata": {
        "id": "feWI1PFyv-82"
      },
      "execution_count": null,
      "outputs": []
    },
    {
      "cell_type": "code",
      "source": [
        "len(image_array)"
      ],
      "metadata": {
        "colab": {
          "base_uri": "https://localhost:8080/"
        },
        "id": "0Wd9ufgdjagj",
        "outputId": "06f271c8-e9d6-4bb2-a826-4fde8791ff8c"
      },
      "execution_count": null,
      "outputs": [
        {
          "output_type": "execute_result",
          "data": {
            "text/plain": [
              "400"
            ]
          },
          "metadata": {},
          "execution_count": 139
        }
      ]
    },
    {
      "cell_type": "code",
      "source": [
        "image_labels"
      ],
      "metadata": {
        "colab": {
          "base_uri": "https://localhost:8080/"
        },
        "id": "DZ9ezBARlEm9",
        "outputId": "838aef06-8a7d-4af9-f946-dff53f85b963"
      },
      "execution_count": null,
      "outputs": [
        {
          "output_type": "execute_result",
          "data": {
            "text/plain": [
              "[0,\n",
              " 0,\n",
              " 0,\n",
              " 0,\n",
              " 0,\n",
              " 0,\n",
              " 0,\n",
              " 0,\n",
              " 0,\n",
              " 0,\n",
              " 0,\n",
              " 0,\n",
              " 0,\n",
              " 0,\n",
              " 0,\n",
              " 0,\n",
              " 0,\n",
              " 0,\n",
              " 0,\n",
              " 0,\n",
              " 0,\n",
              " 0,\n",
              " 0,\n",
              " 0,\n",
              " 0,\n",
              " 0,\n",
              " 0,\n",
              " 0,\n",
              " 0,\n",
              " 0,\n",
              " 0,\n",
              " 0,\n",
              " 0,\n",
              " 0,\n",
              " 0,\n",
              " 0,\n",
              " 0,\n",
              " 0,\n",
              " 0,\n",
              " 0,\n",
              " 1,\n",
              " 1,\n",
              " 1,\n",
              " 1,\n",
              " 1,\n",
              " 1,\n",
              " 1,\n",
              " 1,\n",
              " 1,\n",
              " 1,\n",
              " 1,\n",
              " 1,\n",
              " 1,\n",
              " 1,\n",
              " 1,\n",
              " 1,\n",
              " 1,\n",
              " 1,\n",
              " 1,\n",
              " 1,\n",
              " 1,\n",
              " 1,\n",
              " 1,\n",
              " 1,\n",
              " 1,\n",
              " 1,\n",
              " 1,\n",
              " 1,\n",
              " 1,\n",
              " 1,\n",
              " 1,\n",
              " 1,\n",
              " 1,\n",
              " 1,\n",
              " 1,\n",
              " 1,\n",
              " 1,\n",
              " 1,\n",
              " 1,\n",
              " 1,\n",
              " 2,\n",
              " 2,\n",
              " 2,\n",
              " 2,\n",
              " 2,\n",
              " 2,\n",
              " 2,\n",
              " 2,\n",
              " 2,\n",
              " 2,\n",
              " 2,\n",
              " 2,\n",
              " 2,\n",
              " 2,\n",
              " 2,\n",
              " 2,\n",
              " 2,\n",
              " 2,\n",
              " 2,\n",
              " 2,\n",
              " 2,\n",
              " 2,\n",
              " 2,\n",
              " 2,\n",
              " 2,\n",
              " 2,\n",
              " 2,\n",
              " 2,\n",
              " 2,\n",
              " 2,\n",
              " 2,\n",
              " 2,\n",
              " 2,\n",
              " 2,\n",
              " 2,\n",
              " 2,\n",
              " 2,\n",
              " 2,\n",
              " 2,\n",
              " 2,\n",
              " 3,\n",
              " 3,\n",
              " 3,\n",
              " 3,\n",
              " 3,\n",
              " 3,\n",
              " 3,\n",
              " 3,\n",
              " 3,\n",
              " 3,\n",
              " 3,\n",
              " 3,\n",
              " 3,\n",
              " 3,\n",
              " 3,\n",
              " 3,\n",
              " 3,\n",
              " 3,\n",
              " 3,\n",
              " 3,\n",
              " 3,\n",
              " 3,\n",
              " 3,\n",
              " 3,\n",
              " 3,\n",
              " 3,\n",
              " 3,\n",
              " 3,\n",
              " 3,\n",
              " 3,\n",
              " 3,\n",
              " 3,\n",
              " 3,\n",
              " 3,\n",
              " 3,\n",
              " 3,\n",
              " 3,\n",
              " 3,\n",
              " 3,\n",
              " 3,\n",
              " 4,\n",
              " 4,\n",
              " 4,\n",
              " 4,\n",
              " 4,\n",
              " 4,\n",
              " 4,\n",
              " 4,\n",
              " 4,\n",
              " 4,\n",
              " 4,\n",
              " 4,\n",
              " 4,\n",
              " 4,\n",
              " 4,\n",
              " 4,\n",
              " 4,\n",
              " 4,\n",
              " 4,\n",
              " 4,\n",
              " 4,\n",
              " 4,\n",
              " 4,\n",
              " 4,\n",
              " 4,\n",
              " 4,\n",
              " 4,\n",
              " 4,\n",
              " 4,\n",
              " 4,\n",
              " 4,\n",
              " 4,\n",
              " 4,\n",
              " 4,\n",
              " 4,\n",
              " 4,\n",
              " 4,\n",
              " 4,\n",
              " 4,\n",
              " 4,\n",
              " 5,\n",
              " 5,\n",
              " 5,\n",
              " 5,\n",
              " 5,\n",
              " 5,\n",
              " 5,\n",
              " 5,\n",
              " 5,\n",
              " 5,\n",
              " 5,\n",
              " 5,\n",
              " 5,\n",
              " 5,\n",
              " 5,\n",
              " 5,\n",
              " 5,\n",
              " 5,\n",
              " 5,\n",
              " 5,\n",
              " 5,\n",
              " 5,\n",
              " 5,\n",
              " 5,\n",
              " 5,\n",
              " 5,\n",
              " 5,\n",
              " 5,\n",
              " 5,\n",
              " 5,\n",
              " 5,\n",
              " 5,\n",
              " 5,\n",
              " 5,\n",
              " 5,\n",
              " 5,\n",
              " 5,\n",
              " 5,\n",
              " 5,\n",
              " 5,\n",
              " 6,\n",
              " 6,\n",
              " 6,\n",
              " 6,\n",
              " 6,\n",
              " 6,\n",
              " 6,\n",
              " 6,\n",
              " 6,\n",
              " 6,\n",
              " 6,\n",
              " 6,\n",
              " 6,\n",
              " 6,\n",
              " 6,\n",
              " 6,\n",
              " 6,\n",
              " 6,\n",
              " 6,\n",
              " 6,\n",
              " 6,\n",
              " 6,\n",
              " 6,\n",
              " 6,\n",
              " 6,\n",
              " 6,\n",
              " 6,\n",
              " 6,\n",
              " 6,\n",
              " 6,\n",
              " 6,\n",
              " 6,\n",
              " 6,\n",
              " 6,\n",
              " 6,\n",
              " 6,\n",
              " 6,\n",
              " 6,\n",
              " 6,\n",
              " 6,\n",
              " 7,\n",
              " 7,\n",
              " 7,\n",
              " 7,\n",
              " 7,\n",
              " 7,\n",
              " 7,\n",
              " 7,\n",
              " 7,\n",
              " 7,\n",
              " 7,\n",
              " 7,\n",
              " 7,\n",
              " 7,\n",
              " 7,\n",
              " 7,\n",
              " 7,\n",
              " 7,\n",
              " 7,\n",
              " 7,\n",
              " 7,\n",
              " 7,\n",
              " 7,\n",
              " 7,\n",
              " 7,\n",
              " 7,\n",
              " 7,\n",
              " 7,\n",
              " 7,\n",
              " 7,\n",
              " 7,\n",
              " 7,\n",
              " 7,\n",
              " 7,\n",
              " 7,\n",
              " 7,\n",
              " 7,\n",
              " 7,\n",
              " 7,\n",
              " 7,\n",
              " 8,\n",
              " 8,\n",
              " 8,\n",
              " 8,\n",
              " 8,\n",
              " 8,\n",
              " 8,\n",
              " 8,\n",
              " 8,\n",
              " 8,\n",
              " 8,\n",
              " 8,\n",
              " 8,\n",
              " 8,\n",
              " 8,\n",
              " 8,\n",
              " 8,\n",
              " 8,\n",
              " 8,\n",
              " 8,\n",
              " 8,\n",
              " 8,\n",
              " 8,\n",
              " 8,\n",
              " 8,\n",
              " 8,\n",
              " 8,\n",
              " 8,\n",
              " 8,\n",
              " 8,\n",
              " 8,\n",
              " 8,\n",
              " 8,\n",
              " 8,\n",
              " 8,\n",
              " 8,\n",
              " 8,\n",
              " 8,\n",
              " 8,\n",
              " 8,\n",
              " 9,\n",
              " 9,\n",
              " 9,\n",
              " 9,\n",
              " 9,\n",
              " 9,\n",
              " 9,\n",
              " 9,\n",
              " 9,\n",
              " 9,\n",
              " 9,\n",
              " 9,\n",
              " 9,\n",
              " 9,\n",
              " 9,\n",
              " 9,\n",
              " 9,\n",
              " 9,\n",
              " 9,\n",
              " 9,\n",
              " 9,\n",
              " 9,\n",
              " 9,\n",
              " 9,\n",
              " 9,\n",
              " 9,\n",
              " 9,\n",
              " 9,\n",
              " 9,\n",
              " 9,\n",
              " 9,\n",
              " 9,\n",
              " 9,\n",
              " 9,\n",
              " 9,\n",
              " 9,\n",
              " 9,\n",
              " 9,\n",
              " 9,\n",
              " 9]"
            ]
          },
          "metadata": {},
          "execution_count": 140
        }
      ]
    },
    {
      "cell_type": "code",
      "source": [
        "#Dividir datos\n",
        "train_x, test_x, train_y, test_y = train_test_split(image_array, image_labels, test_size=0.30, random_state=42)\n",
        "\n",
        "\n"
      ],
      "metadata": {
        "id": "0UY5Q9Y0ZA13"
      },
      "execution_count": null,
      "outputs": []
    },
    {
      "cell_type": "code",
      "source": [
        "len(train_x)"
      ],
      "metadata": {
        "colab": {
          "base_uri": "https://localhost:8080/"
        },
        "id": "eirYdQiZUYuL",
        "outputId": "4dd433ee-5e34-48c8-b18c-bcd8e92e2290"
      },
      "execution_count": null,
      "outputs": [
        {
          "output_type": "execute_result",
          "data": {
            "text/plain": [
              "280"
            ]
          },
          "metadata": {},
          "execution_count": 147
        }
      ]
    },
    {
      "cell_type": "code",
      "source": [
        "plt.imshow(train_x [211], cmap='gray')"
      ],
      "metadata": {
        "colab": {
          "base_uri": "https://localhost:8080/",
          "height": 282
        },
        "id": "gz5KG9gAUcOg",
        "outputId": "f85621a9-0bab-4f80-ea17-e5574b7dae6a"
      },
      "execution_count": 167,
      "outputs": [
        {
          "output_type": "execute_result",
          "data": {
            "text/plain": [
              "<matplotlib.image.AxesImage at 0x7f2c3d00dc50>"
            ]
          },
          "metadata": {},
          "execution_count": 167
        },
        {
          "output_type": "display_data",
          "data": {
            "text/plain": [
              "<Figure size 432x288 with 1 Axes>"
            ],
            "image/png": "[encoded data removed]"
          },
          "metadata": {
            "needs_background": "light"
          }
        }
      ]
    },
    {
      "cell_type": "code",
      "source": [
        "print(train_y[211])"
      ],
      "metadata": {
        "id": "enY_JzGWUf3A",
        "colab": {
          "base_uri": "https://localhost:8080/"
        },
        "outputId": "1491a085-10a6-45f6-932f-1e9be87d47ab"
      },
      "execution_count": 168,
      "outputs": [
        {
          "output_type": "stream",
          "name": "stdout",
          "text": [
            "5\n"
          ]
        }
      ]
    },
    {
      "cell_type": "code",
      "source": [
        "train_x= np.array(train_x)\n",
        "test_x= np.array(test_x)\n",
        "test_y= np.array(test_y)\n",
        "train_y= np.array(train_y)"
      ],
      "metadata": {
        "id": "UNjQS9QQVsIs"
      },
      "execution_count": 169,
      "outputs": []
    },
    {
      "cell_type": "code",
      "source": [
        "train_x.shape"
      ],
      "metadata": {
        "colab": {
          "base_uri": "https://localhost:8080/"
        },
        "id": "D7MPBdorV6iV",
        "outputId": "4c36687b-6b48-4126-a661-0e3afdde1cd8"
      },
      "execution_count": 170,
      "outputs": [
        {
          "output_type": "execute_result",
          "data": {
            "text/plain": [
              "(280, 28, 28)"
            ]
          },
          "metadata": {},
          "execution_count": 170
        }
      ]
    },
    {
      "cell_type": "code",
      "source": [
        "len(train_y)"
      ],
      "metadata": {
        "colab": {
          "base_uri": "https://localhost:8080/"
        },
        "id": "2faEQ_CaWB23",
        "outputId": "67e0870e-996b-4a73-e099-c28faa02386a"
      },
      "execution_count": 172,
      "outputs": [
        {
          "output_type": "execute_result",
          "data": {
            "text/plain": [
              "280"
            ]
          },
          "metadata": {},
          "execution_count": 172
        }
      ]
    },
    {
      "cell_type": "code",
      "source": [
        "len(test_y)"
      ],
      "metadata": {
        "colab": {
          "base_uri": "https://localhost:8080/"
        },
        "id": "HB3Rmu6TWMje",
        "outputId": "e15a6824-937d-42a4-8a9a-82e5b0946a2f"
      },
      "execution_count": 173,
      "outputs": [
        {
          "output_type": "execute_result",
          "data": {
            "text/plain": [
              "120"
            ]
          },
          "metadata": {},
          "execution_count": 173
        }
      ]
    },
    {
      "cell_type": "code",
      "source": [
        "train_y"
      ],
      "metadata": {
        "colab": {
          "base_uri": "https://localhost:8080/"
        },
        "id": "qXf2jRCdWPjq",
        "outputId": "b567f2fe-a968-4a0d-9c28-f46c9f558783"
      },
      "execution_count": 174,
      "outputs": [
        {
          "output_type": "execute_result",
          "data": {
            "text/plain": [
              "array([3, 2, 0, 8, 0, 4, 8, 8, 4, 6, 7, 3, 6, 4, 2, 4, 5, 6, 5, 7, 0, 3,\n",
              "       7, 3, 4, 7, 1, 2, 4, 9, 0, 8, 6, 3, 0, 4, 2, 2, 7, 9, 9, 5, 7, 4,\n",
              "       8, 2, 9, 4, 3, 5, 2, 1, 3, 2, 3, 8, 2, 5, 1, 0, 0, 3, 3, 4, 1, 4,\n",
              "       8, 5, 7, 4, 3, 3, 9, 2, 8, 8, 8, 8, 8, 7, 4, 5, 7, 5, 7, 3, 0, 0,\n",
              "       8, 4, 5, 2, 4, 8, 7, 2, 9, 6, 9, 7, 9, 4, 6, 3, 3, 4, 4, 9, 0, 5,\n",
              "       2, 5, 5, 0, 3, 8, 5, 9, 9, 8, 9, 3, 1, 8, 0, 2, 9, 2, 6, 7, 3, 6,\n",
              "       4, 7, 1, 9, 1, 2, 6, 4, 3, 0, 0, 0, 4, 3, 7, 6, 5, 2, 1, 6, 7, 7,\n",
              "       4, 1, 7, 5, 6, 8, 0, 6, 8, 2, 5, 8, 5, 4, 2, 5, 1, 1, 0, 6, 5, 8,\n",
              "       0, 7, 5, 6, 7, 4, 9, 3, 1, 3, 3, 0, 1, 7, 0, 3, 1, 9, 8, 5, 6, 8,\n",
              "       5, 5, 5, 7, 9, 6, 9, 9, 7, 6, 5, 4, 1, 5, 4, 7, 6, 2, 1, 0, 1, 2,\n",
              "       5, 0, 6, 2, 8, 1, 8, 6, 6, 0, 7, 2, 6, 4, 8, 9, 3, 7, 9, 7, 6, 1,\n",
              "       1, 4, 4, 9, 4, 4, 1, 1, 8, 5, 6, 0, 7, 4, 6, 4, 7, 8, 6, 7, 3, 3,\n",
              "       3, 8, 2, 9, 2, 8, 5, 3, 9, 0, 4, 1, 2, 6, 8, 2])"
            ]
          },
          "metadata": {},
          "execution_count": 174
        }
      ]
    },
    {
      "cell_type": "code",
      "source": [
        "test_x.shape"
      ],
      "metadata": {
        "colab": {
          "base_uri": "https://localhost:8080/"
        },
        "id": "zbB-IEHcWV31",
        "outputId": "240977d8-dbfb-41fe-e308-2aa81c7e62ef"
      },
      "execution_count": 175,
      "outputs": [
        {
          "output_type": "execute_result",
          "data": {
            "text/plain": [
              "(120, 28, 28)"
            ]
          },
          "metadata": {},
          "execution_count": 175
        }
      ]
    },
    {
      "cell_type": "code",
      "source": [
        "#Normalización pixeles\n",
        "\n",
        "train_x = train_x / 255.0\n",
        "test_x = test_x / 255.0"
      ],
      "metadata": {
        "id": "a0sjEbx0WqGE"
      },
      "execution_count": 176,
      "outputs": []
    },
    {
      "cell_type": "code",
      "source": [
        "model = keras.Sequential([\n",
        "    keras.layers.Flatten(input_shape=(28, 28)),\n",
        "    keras.layers.Dense(128, activation='relu'),\n",
        "    keras.layers.Dense(10, activation='softmax')\n",
        "])"
      ],
      "metadata": {
        "id": "4_hciAI7W3nR"
      },
      "execution_count": 177,
      "outputs": []
    },
    {
      "cell_type": "code",
      "source": [
        "model.compile(optimizer='adam',\n",
        "              loss='sparse_categorical_crossentropy',\n",
        "              metrics=['accuracy'])"
      ],
      "metadata": {
        "id": "NTD4vL6iW7CW"
      },
      "execution_count": 178,
      "outputs": []
    },
    {
      "cell_type": "code",
      "source": [
        "model.fit(train_x, train_y, epochs=10)"
      ],
      "metadata": {
        "colab": {
          "base_uri": "https://localhost:8080/"
        },
        "id": "KJIoD_BdW9nb",
        "outputId": "b9d548db-038b-4d86-dff7-27a008addeb9"
      },
      "execution_count": 180,
      "outputs": [
        {
          "output_type": "stream",
          "name": "stdout",
          "text": [
            "Epoch 1/10\n",
            "9/9 [==============================] - 1s 3ms/step - loss: 2.3696 - accuracy: 0.1429\n",
            "Epoch 2/10\n",
            "9/9 [==============================] - 0s 3ms/step - loss: 2.2008 - accuracy: 0.2857\n",
            "Epoch 3/10\n",
            "9/9 [==============================] - 0s 4ms/step - loss: 2.0336 - accuracy: 0.4286\n",
            "Epoch 4/10\n",
            "9/9 [==============================] - 0s 3ms/step - loss: 1.8955 - accuracy: 0.5071\n",
            "Epoch 5/10\n",
            "9/9 [==============================] - 0s 3ms/step - loss: 1.7699 - accuracy: 0.5464\n",
            "Epoch 6/10\n",
            "9/9 [==============================] - 0s 3ms/step - loss: 1.6284 - accuracy: 0.5821\n",
            "Epoch 7/10\n",
            "9/9 [==============================] - 0s 4ms/step - loss: 1.5239 - accuracy: 0.6429\n",
            "Epoch 8/10\n",
            "9/9 [==============================] - 0s 3ms/step - loss: 1.4128 - accuracy: 0.6321\n",
            "Epoch 9/10\n",
            "9/9 [==============================] - 0s 3ms/step - loss: 1.3258 - accuracy: 0.6250\n",
            "Epoch 10/10\n",
            "9/9 [==============================] - 0s 3ms/step - loss: 1.2964 - accuracy: 0.6286\n"
          ]
        },
        {
          "output_type": "execute_result",
          "data": {
            "text/plain": [
              "<keras.callbacks.History at 0x7f2c391b8e10>"
            ]
          },
          "metadata": {},
          "execution_count": 180
        }
      ]
    },
    {
      "cell_type": "code",
      "source": [
        "test_loss, test_acc = model.evaluate(test_x,  test_y, verbose=2)\n",
        "\n",
        "print('\\nTest accuracy:', test_acc)"
      ],
      "metadata": {
        "colab": {
          "base_uri": "https://localhost:8080/"
        },
        "id": "N5crA0LvXEqO",
        "outputId": "bba2211b-5d97-4ee7-d434-5944029d44d4"
      },
      "execution_count": 182,
      "outputs": [
        {
          "output_type": "stream",
          "name": "stdout",
          "text": [
            "4/4 - 0s - loss: 1.9336 - accuracy: 0.3083 - 247ms/epoch - 62ms/step\n",
            "\n",
            "Test accuracy: 0.3083333373069763\n"
          ]
        }
      ]
    },
    {
      "cell_type": "code",
      "source": [
        "predictions = model.predict(test_x)"
      ],
      "metadata": {
        "id": "I_zwajkSXMwT"
      },
      "execution_count": 183,
      "outputs": []
    },
    {
      "cell_type": "code",
      "source": [
        "predictions[0]"
      ],
      "metadata": {
        "colab": {
          "base_uri": "https://localhost:8080/"
        },
        "id": "EmszJiPtXQkD",
        "outputId": "fda2817d-50fc-4e5c-b418-b8b1de015df2"
      },
      "execution_count": 184,
      "outputs": [
        {
          "output_type": "execute_result",
          "data": {
            "text/plain": [
              "array([0.00971851, 0.03511852, 0.01242334, 0.21966921, 0.0063497 ,\n",
              "       0.16621396, 0.03014757, 0.00861751, 0.34323177, 0.16850996],\n",
              "      dtype=float32)"
            ]
          },
          "metadata": {},
          "execution_count": 184
        }
      ]
    },
    {
      "cell_type": "code",
      "source": [
        "np.argmax(predictions[0])"
      ],
      "metadata": {
        "colab": {
          "base_uri": "https://localhost:8080/"
        },
        "id": "uKUx5Ce9XTAE",
        "outputId": "b477ec88-157e-43a7-99cb-c0aec82f8562"
      },
      "execution_count": 185,
      "outputs": [
        {
          "output_type": "execute_result",
          "data": {
            "text/plain": [
              "8"
            ]
          },
          "metadata": {},
          "execution_count": 185
        }
      ]
    },
    {
      "cell_type": "code",
      "source": [
        "test_y[0]"
      ],
      "metadata": {
        "colab": {
          "base_uri": "https://localhost:8080/"
        },
        "id": "O12CpHYjXV_P",
        "outputId": "b342b95d-9e5b-44f5-f6ed-beceee78a6ba"
      },
      "execution_count": 186,
      "outputs": [
        {
          "output_type": "execute_result",
          "data": {
            "text/plain": [
              "5"
            ]
          },
          "metadata": {},
          "execution_count": 186
        }
      ]
    },
    {
      "cell_type": "code",
      "source": [
        "ClassNames= ['0', '1', '2', '3', '4',\n",
        "               '5', '6', '7', '8', '9']"
      ],
      "metadata": {
        "id": "Zv_Jn5s1YYKW"
      },
      "execution_count": 193,
      "outputs": []
    },
    {
      "cell_type": "code",
      "source": [
        "def plot_image(i, predictions_array, true_label, img):\n",
        "  predictions_array, true_label, img = predictions_array, true_label[i], img[i]\n",
        "  plt.grid(False)\n",
        "  plt.xticks([])\n",
        "  plt.yticks([])\n",
        "\n",
        "  plt.imshow(img, cmap=plt.cm.binary)\n",
        "\n",
        "  predicted_label = np.argmax(predictions_array)\n",
        "  if predicted_label == true_label:\n",
        "    color = 'blue'\n",
        "  else:\n",
        "    color = 'red'\n",
        "\n",
        "  plt.xlabel(\"{} {:2.0f}% ({})\".format(ClassNames[predicted_label],\n",
        "                                100*np.max(predictions_array),\n",
        "                                ClassNames[true_label]),\n",
        "                                color=color)\n",
        "\n",
        "def plot_value_array(i, predictions_array, true_label):\n",
        "  predictions_array, true_label = predictions_array, true_label[i]\n",
        "  plt.grid(False)\n",
        "  plt.xticks(range(10))\n",
        "  plt.yticks([])\n",
        "  thisplot = plt.bar(range(10), predictions_array, color=\"#777777\")\n",
        "  plt.ylim([0, 1])\n",
        "  predicted_label = np.argmax(predictions_array)\n",
        "\n",
        "  thisplot[predicted_label].set_color('red')\n",
        "  thisplot[true_label].set_color('blue')"
      ],
      "metadata": {
        "id": "PTrl23pVXaUf"
      },
      "execution_count": 194,
      "outputs": []
    },
    {
      "cell_type": "code",
      "source": [
        "i = 0\n",
        "plt.figure(figsize=(6,3))\n",
        "plt.subplot(1,2,1)\n",
        "plot_image(i, predictions[i], test_y, test_x)\n",
        "plt.subplot(1,2,2)\n",
        "plot_value_array(i, predictions[i],  test_y)\n",
        "plt.show()"
      ],
      "metadata": {
        "colab": {
          "base_uri": "https://localhost:8080/",
          "height": 211
        },
        "id": "UE1t4IdAXm0z",
        "outputId": "8a0610f0-41e5-4b4b-8a9e-b20abf6044d5"
      },
      "execution_count": 195,
      "outputs": [
        {
          "output_type": "display_data",
          "data": {
            "text/plain": [
              "<Figure size 432x216 with 2 Axes>"
            ],
            "image/png": "[encoded data removed]"
          },
          "metadata": {
            "needs_background": "light"
          }
        }
      ]
    },
    {
      "cell_type": "code",
      "source": [
        "i = 12\n",
        "plt.figure(figsize=(6,3))\n",
        "plt.subplot(1,2,1)\n",
        "plot_image(i, predictions[i], test_y, test_x)\n",
        "plt.subplot(1,2,2)\n",
        "plot_value_array(i, predictions[i],  test_y)\n",
        "plt.show()"
      ],
      "metadata": {
        "colab": {
          "base_uri": "https://localhost:8080/",
          "height": 211
        },
        "id": "nahw_YJpYjTy",
        "outputId": "571f829a-7631-472e-a11b-eeda6fa77c45"
      },
      "execution_count": 196,
      "outputs": [
        {
          "output_type": "display_data",
          "data": {
            "text/plain": [
              "<Figure size 432x216 with 2 Axes>"
            ],
            "image/png": "[encoded data removed]"
          },
          "metadata": {
            "needs_background": "light"
          }
        }
      ]
    },
    {
      "cell_type": "code",
      "source": [
        "# Plot the first X test images, their predicted labels, and the true labels.\n",
        "# Color correct predictions in blue and incorrect predictions in red.\n",
        "num_rows = 5\n",
        "num_cols = 3\n",
        "num_images = num_rows*num_cols\n",
        "plt.figure(figsize=(2*2*num_cols, 2*num_rows))\n",
        "for i in range(num_images):\n",
        "  plt.subplot(num_rows, 2*num_cols, 2*i+1)\n",
        "  plot_image(i, predictions[i], test_y, test_x)\n",
        "  plt.subplot(num_rows, 2*num_cols, 2*i+2)\n",
        "  plot_value_array(i, predictions[i], test_y)\n",
        "plt.tight_layout()\n",
        "plt.show()"
      ],
      "metadata": {
        "colab": {
          "base_uri": "https://localhost:8080/",
          "height": 729
        },
        "id": "5-MKihmGYorq",
        "outputId": "7cc40769-4c23-4283-8f71-178e023f6657"
      },
      "execution_count": 198,
      "outputs": [
        {
          "output_type": "display_data",
          "data": {
            "text/plain": [
              "<Figure size 864x720 with 30 Axes>"
            ],
            "image/png": "[encoded data removed]"
          },
          "metadata": {
            "needs_background": "light"
          }
        }
      ]
    },
    {
      "cell_type": "code",
      "source": [
        "# Grab an image from the test dataset.\n",
        "img = test_x[1]\n",
        "\n",
        "print(img.shape)"
      ],
      "metadata": {
        "colab": {
          "base_uri": "https://localhost:8080/"
        },
        "id": "FqBoKG0UY7jg",
        "outputId": "dd9437e0-26a1-44d2-a2e1-970c3224f8e4"
      },
      "execution_count": 199,
      "outputs": [
        {
          "output_type": "stream",
          "name": "stdout",
          "text": [
            "(28, 28)\n"
          ]
        }
      ]
    },
    {
      "cell_type": "code",
      "source": [
        "img = (np.expand_dims(img,0))\n",
        "\n",
        "print(img.shape)"
      ],
      "metadata": {
        "colab": {
          "base_uri": "https://localhost:8080/"
        },
        "id": "VRwdAIW2Y_wC",
        "outputId": "21b74271-c1d4-4928-b28e-4773e20b8b4e"
      },
      "execution_count": 200,
      "outputs": [
        {
          "output_type": "stream",
          "name": "stdout",
          "text": [
            "(1, 28, 28)\n"
          ]
        }
      ]
    },
    {
      "cell_type": "code",
      "source": [
        "predictions_single = model.predict(img)\n",
        "\n",
        "print(predictions_single)"
      ],
      "metadata": {
        "colab": {
          "base_uri": "https://localhost:8080/"
        },
        "id": "NV6kS08UZBD6",
        "outputId": "c16712ae-9dc6-4149-82c4-dc6b8dba94bf"
      },
      "execution_count": 201,
      "outputs": [
        {
          "output_type": "stream",
          "name": "stdout",
          "text": [
            "[[0.01667163 0.0450764  0.13033408 0.03138534 0.02910848 0.02061502\n",
            "  0.00934642 0.6339496  0.01485769 0.0686553 ]]\n"
          ]
        }
      ]
    },
    {
      "cell_type": "code",
      "source": [
        "plot_value_array(1, predictions_single[0], test_y)\n",
        "_ = plt.xticks(range(10), ClassNames, rotation=45)"
      ],
      "metadata": {
        "colab": {
          "base_uri": "https://localhost:8080/",
          "height": 267
        },
        "id": "keAssVc0ZEmD",
        "outputId": "c560399a-86c4-40c9-9c1c-6e7dd41cead1"
      },
      "execution_count": 202,
      "outputs": [
        {
          "output_type": "display_data",
          "data": {
            "text/plain": [
              "<Figure size 432x288 with 1 Axes>"
            ],
            "image/png": "[encoded data removed]"
          },
          "metadata": {
            "needs_background": "light"
          }
        }
      ]
    },
    {
      "cell_type": "code",
      "source": [
        "np.argmax(predictions_single[0])"
      ],
      "metadata": {
        "colab": {
          "base_uri": "https://localhost:8080/"
        },
        "id": "aeFuUhHLZLjs",
        "outputId": "b59eb2fa-888b-4d61-e3e3-f0497afa5f5b"
      },
      "execution_count": 203,
      "outputs": [
        {
          "output_type": "execute_result",
          "data": {
            "text/plain": [
              "7"
            ]
          },
          "metadata": {},
          "execution_count": 203
        }
      ]
    }
  ]
}